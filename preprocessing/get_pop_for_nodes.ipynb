{
 "cells": [
  {
   "cell_type": "code",
   "execution_count": 12,
   "id": "81d44bfa-7cf6-43c7-8964-48eb06f6ee4e",
   "metadata": {},
   "outputs": [],
   "source": [
    "import pandas as pd\n",
    "import geopandas as gpd\n",
    "import matplotlib.pyplot as plt\n",
    "from pyproj import Proj, transform\n",
    "from tqdm import tqdm"
   ]
  },
  {
   "cell_type": "code",
   "execution_count": 42,
   "id": "c61bb087-d4c6-48ff-8a9b-eef68488975b",
   "metadata": {},
   "outputs": [],
   "source": [
    "node_df = pd.read_csv(\"node_uptime_with_locations.csv\")\n",
    "norway_pop_gdf = gpd.read_file(\"Population Data/Befolkning_0000_Norge_25833_BefolkningsstatistikkRutenett1km2023_GML.gml\", driver=\"GML\")"
   ]
  },
  {
   "cell_type": "code",
   "execution_count": 3,
   "id": "e122e4f0-c372-4ecf-8100-7a4c9645cdb0",
   "metadata": {},
   "outputs": [
    {
     "name": "stderr",
     "output_type": "stream",
     "text": [
      "/home/nic/School/bachelor/norway-population-density/venv-npd/lib/python3.11/site-packages/pyproj/crs/crs.py:141: FutureWarning: '+init=<authority>:<code>' syntax is deprecated. '<authority>:<code>' is the preferred initialization method. When making the change, be mindful of axis order changes: https://pyproj4.github.io/pyproj/stable/gotchas.html#axis-order-changes-in-proj-6\n",
      "  in_crs_string = _prepare_from_proj_string(in_crs_string)\n",
      "/home/nic/School/bachelor/norway-population-density/venv-npd/lib/python3.11/site-packages/pyproj/crs/crs.py:141: FutureWarning: '+init=<authority>:<code>' syntax is deprecated. '<authority>:<code>' is the preferred initialization method. When making the change, be mindful of axis order changes: https://pyproj4.github.io/pyproj/stable/gotchas.html#axis-order-changes-in-proj-6\n",
      "  in_crs_string = _prepare_from_proj_string(in_crs_string)\n"
     ]
    }
   ],
   "source": [
    "# Convert lat and lon to coordinates used by population Dataframe\n",
    "P4326 = Proj(init='epsg:4326') # Input coordinate system EPSG:4326 WGS 84 \n",
    "P25833 = Proj(init='epsg:25833') # Output coordinate system: EPSG:25833 ETRS89 / UTM zone 33N"
   ]
  },
  {
   "cell_type": "code",
   "execution_count": 4,
   "id": "56f7fb65-c94e-4ff9-a99e-0578f397b178",
   "metadata": {},
   "outputs": [],
   "source": [
    "def polygon_to_center(polygon):\n",
    "    coords = list(polygon.exterior.coords)\n",
    "    top_left = coords[0]\n",
    "    bottom_right = coords[2]\n",
    "\n",
    "    mid = ((top_left[0] + bottom_right[0]) / 2, (top_left[1] + bottom_right[1]) / 2)\n",
    "    return mid\n",
    "\n",
    "# Transforms coordinate in EPSG:25833 ETRS89 / UTM zone 33N to EPSG:4326 WGS 84 (regular lat and lon coord system)\n",
    "#def coords_proj(polygon_coords):\n",
    "#    x, y = polygon_coords\n",
    "#    return transform(P25833, P4326, x, y)\n",
    "#\n",
    "#\n",
    "#def polygon_to_pos(polygon):\n",
    "#    return coords_proj(polygon_to_center(polygon))"
   ]
  },
  {
   "cell_type": "code",
   "execution_count": 5,
   "id": "47a2a8e3-8c63-4b36-95c9-afacc1eecea4",
   "metadata": {},
   "outputs": [
    {
     "name": "stdout",
     "output_type": "stream",
     "text": [
      "0\n",
      "5000\n",
      "10000\n",
      "15000\n",
      "20000\n",
      "25000\n",
      "30000\n",
      "35000\n",
      "40000\n",
      "45000\n",
      "50000\n",
      "55000\n"
     ]
    }
   ],
   "source": [
    "#polygons_and_pop = zip(norway_pop_gdf[\"geometry\"], norway_pop_gdf[\"popTot\"])\n",
    "length = 55208\n",
    "from dataclasses import dataclass\n",
    "\n",
    "@dataclass\n",
    "class PopSquare:\n",
    "    x: float\n",
    "    y: float\n",
    "    pop: float\n",
    "\n",
    "\n",
    "pop_squares = []\n",
    "\n",
    "for i, (polygon, pop) in enumerate(zip(norway_pop_gdf[\"geometry\"], norway_pop_gdf[\"popTot\"])):\n",
    "    if i % 5_000 == 0:\n",
    "        print(i)\n",
    "    #lon, lat = polygon_to_pos(polygon)\n",
    "    x, y = polygon_to_center(polygon)\n",
    "    pop_squares.append(PopSquare(x, y, pop))  "
   ]
  },
  {
   "cell_type": "code",
   "execution_count": 6,
   "id": "8bdbbe57-b55b-4805-9e55-1a2b14c941e4",
   "metadata": {},
   "outputs": [
    {
     "name": "stdout",
     "output_type": "stream",
     "text": [
      "PopSquare(x=610499.999999851, y=7596499.999998342, pop=33)\n"
     ]
    }
   ],
   "source": [
    "print(pop_squares[0])"
   ]
  },
  {
   "cell_type": "code",
   "execution_count": 7,
   "id": "357c3f58-2ee0-45f0-bed0-0fbb8e1cac4b",
   "metadata": {},
   "outputs": [],
   "source": [
    "import math\n",
    "import heapq\n",
    "\n",
    "\n",
    "def proj_4326_to_25833(lon, lat):\n",
    "    return transform(P4326, P25833, lon, lat)\n",
    "\n",
    "def proj_25833_to_4326(x, y):\n",
    "    return transform(P25833, P4326, x, y)\n",
    "\n",
    "# O(n)\n",
    "def find_closest_squares(lon, lat, n_squares=1):\n",
    "    queue = []\n",
    "    x, y = proj_4326_to_25833(lon, lat)\n",
    "    # (square, Euclidean Distance from entries center)\n",
    "    closest = [(None, math.inf) for _ in range(n_squares)]\n",
    "    \n",
    "    for square in pop_squares:\n",
    "        square_x, square_y = square.x, square.y\n",
    "        distance = math.sqrt(((square_x - x) ** 2) + ((square_y - y) ** 2))\n",
    "        heapq.heappush(queue, (-distance, square))\n",
    "        if len(queue) > n_squares:\n",
    "            heapq.heappop(queue)\n",
    "\n",
    "    return [square for _, square in queue]"
   ]
  },
  {
   "cell_type": "code",
   "execution_count": 11,
   "id": "c26548c1-aa66-46d4-9f82-ce85501020fa",
   "metadata": {},
   "outputs": [
    {
     "name": "stdout",
     "output_type": "stream",
     "text": [
      "8.221209891467721 60.53802468715438 430\n"
     ]
    },
    {
     "name": "stderr",
     "output_type": "stream",
     "text": [
      "/tmp/ipykernel_1741/3620030080.py:6: FutureWarning: This function is deprecated. See: https://pyproj4.github.io/pyproj/stable/gotchas.html#upgrading-to-pyproj-2-from-pyproj-1\n",
      "  return transform(P4326, P25833, lon, lat)\n",
      "/tmp/ipykernel_1741/3620030080.py:9: FutureWarning: This function is deprecated. See: https://pyproj4.github.io/pyproj/stable/gotchas.html#upgrading-to-pyproj-2-from-pyproj-1\n",
      "  return transform(P25833, P4326, x, y)\n"
     ]
    }
   ],
   "source": [
    "squares = find_closest_squares(8.2235251, 60.5411714, n_squares=4)\n",
    "square = squares[3]\n",
    "lon, lat = proj_25833_to_4326(square.x, square.y)\n",
    "print(lon, lat, square.pop)"
   ]
  },
  {
   "cell_type": "code",
   "execution_count": 19,
   "id": "4775933e-6e14-4294-94df-b5bcaf1c3184",
   "metadata": {},
   "outputs": [
    {
     "name": "stderr",
     "output_type": "stream",
     "text": [
      "/tmp/ipykernel_1741/3620030080.py:6: FutureWarning: This function is deprecated. See: https://pyproj4.github.io/pyproj/stable/gotchas.html#upgrading-to-pyproj-2-from-pyproj-1\n",
      "  return transform(P4326, P25833, lon, lat)\n"
     ]
    }
   ],
   "source": [
    "populations = []\n",
    "for lon, lat in zip(node_df[\"loc_lon\"], node_df[\"loc_lat\"]):\n",
    "    closest_squares = find_closest_squares(lon, lat, n_squares=4)\n",
    "    populations.append(sum(square.pop for square in closest_squares))"
   ]
  },
  {
   "cell_type": "code",
   "execution_count": 47,
   "id": "ae2fd2fe-f06c-4b96-8577-5fd01dae6e41",
   "metadata": {},
   "outputs": [],
   "source": [
    "from enum import Enum\n",
    "\n",
    "class PopulationCategory(Enum):\n",
    "    HIGH = 1\n",
    "    MEDIUM = 2\n",
    "    LOW = 3\n",
    "\n",
    "PopulationCategory = Enum('PopulationCategory', ['HIGH', 'MEDIUM', 'LOW'])\n",
    "# https://ieeexplore.ieee.org/stamp/stamp.jsp?tp=&arnumber=9663160\n",
    "HIGH = 15_000\n",
    "MEDIUM = 10_000\n",
    "\n",
    "population_in_categories: list[PopulationCategory] = []\n",
    "\n",
    "for population in populations:\n",
    "    if population > HIGH:\n",
    "        population_in_categories.append(PopulationCategory.HIGH.value)\n",
    "    elif population > MEDIUM:\n",
    "        population_in_categories.append(PopulationCategory.MEDIUM.value)\n",
    "    else:\n",
    "        population_in_categories.append(PopulationCategory.LOW.value)"
   ]
  },
  {
   "cell_type": "code",
   "execution_count": 48,
   "id": "bb9639a5-89b8-4638-81fa-bc3f95fa485c",
   "metadata": {},
   "outputs": [],
   "source": [
    "node_df = node_df.assign(population=populations)\n",
    "node_df = node_df.assign(population_category=population_in_categories)"
   ]
  },
  {
   "cell_type": "code",
   "execution_count": 52,
   "id": "530cf29f-daeb-41f2-a65d-d506af66b222",
   "metadata": {},
   "outputs": [],
   "source": [
    "node_df.describe()\n",
    "node_df.to_csv(\"updated_node_uptime_with_locations.csv\", index=False)"
   ]
  }
 ],
 "metadata": {
  "kernelspec": {
   "display_name": "myenv",
   "language": "python",
   "name": "myenv"
  },
  "language_info": {
   "codemirror_mode": {
    "name": "ipython",
    "version": 3
   },
   "file_extension": ".py",
   "mimetype": "text/x-python",
   "name": "python",
   "nbconvert_exporter": "python",
   "pygments_lexer": "ipython3",
   "version": "3.11.7"
  }
 },
 "nbformat": 4,
 "nbformat_minor": 5
}
