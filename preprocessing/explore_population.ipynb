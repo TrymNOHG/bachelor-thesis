{
 "cells": [
  {
   "cell_type": "markdown",
   "metadata": {},
   "source": [
    "# Exploratory Analysis of Norway Population Data\n",
    "\n",
    "The norway population dataset has a granularity of 1km^2 and was recorded in 2023. It was retrieved from GeoNorge with data from SSB: https://kartkatalog.geonorge.no/metadata/befolkning-paa-rutenett-1000-m-2023/8de78b6a-6634-40f2-aac1-954d82ec31b7.\n",
    "\n",
    "In this file, an exploratory analysis of the population dataset will be undertaken. The goal of this exploration is to ascertain distinct population categories, which can then be used further in the model dataset."
   ]
  },
  {
   "cell_type": "code",
   "execution_count": null,
   "metadata": {},
   "outputs": [],
   "source": [
    "import pandas as pd\n",
    "import geopandas as gpd\n",
    "import seaborn as sns\n",
    "import matplotlib.pyplot as plt\n",
    "\n",
    "# Exploratory analysis of population data, to form categories.\n",
    "norway_pop_gdf = gpd.read_file(\"../data/Befolkning_0000_Norge_25833_BefolkningsstatistikkRutenett1km2023_GML.gml\", driver=\"GML\")\n",
    "print(norway_pop_gdf[\"popTot\"])"
   ]
  },
  {
   "cell_type": "markdown",
   "metadata": {},
   "source": [
    "### Kernel Density Estimation -- Smooth distribution of population"
   ]
  },
  {
   "cell_type": "code",
   "execution_count": null,
   "metadata": {},
   "outputs": [],
   "source": [
    "sns.displot(norway_pop_gdf, x=\"popTot\", kind=\"kde\", bw_adjust=.25)\n",
    "plt.savefig(\"../plots/population/total_norway_pop_kde.png\")"
   ]
  },
  {
   "cell_type": "markdown",
   "metadata": {},
   "source": [
    "### Box plot of population\n",
    "Box plot for total population included in norway 1km^2 population dataset."
   ]
  },
  {
   "cell_type": "code",
   "execution_count": null,
   "metadata": {},
   "outputs": [],
   "source": [
    "sns.boxplot(y=\"popTot\", data=norway_pop_gdf)\n",
    "plt.savefig(\"../plots/population/total_norway_pop_box_plt.png\")"
   ]
  },
  {
   "cell_type": "markdown",
   "metadata": {},
   "source": [
    "## Node-Population Dataset Exploration\n",
    "\n",
    "The Node-Population dataset is the result of combining populations with nodes given the latitude and longitude."
   ]
  },
  {
   "cell_type": "code",
   "execution_count": null,
   "metadata": {},
   "outputs": [],
   "source": [
    "import pandas as pd\n",
    "import seaborn as sns\n",
    "import matplotlib.pyplot as plt\n",
    "node_pop_df = pd.read_csv(\"../data/updated_node_uptime_with_locations.csv\")\n",
    "print(node_pop_df)"
   ]
  },
  {
   "cell_type": "markdown",
   "metadata": {},
   "source": [
    "### Kernel Density Estimation of Node Population"
   ]
  },
  {
   "cell_type": "code",
   "execution_count": null,
   "metadata": {},
   "outputs": [],
   "source": [
    "from scipy.signal import find_peaks\n",
    "from scipy.signal import argrelextrema\n",
    "import numpy as np\n",
    "\n",
    "node_plot = sns.kdeplot(data=node_pop_df['population'], color='r', bw_adjust=0.2, clip= (0, None))\n",
    "plt.savefig(\"../plots/population/node_pop_kde.png\")\n",
    "\n",
    "kde_data = node_plot.get_lines()[0].get_data()\n",
    "x_kde, y_kde = kde_data\n",
    "\n",
    "peaks, i = find_peaks(kde_data[1], height=0)\n",
    "# print(i)\n",
    "peak_values = [int(peak) for peak in kde_data[0][peaks]]\n",
    "print(peaks)\n",
    "maxima = [(x_kde[ind], y_kde[ind]) for ind in peaks]\n",
    "\n",
    "\n",
    "# print(kde_data)\n",
    "minima_indices = argrelextrema(y_kde, np.less)[0]\n",
    "minima_values = [int(x_kde[min_index]) for min_index in minima_indices]\n",
    "minima_points = [(x_kde[i], y_kde[i]) for i in minima_indices]\n",
    "\n",
    "# plt.scatter(*zip(*maxima), color='black', label='Maxima')\n",
    "plt.scatter(*zip(*minima_points), color='blue', label='Minima')\n",
    "\n",
    "print(\"Population peaks:\", peak_values)\n",
    "print(\"Population minima:\", minima_values)\n",
    "\n",
    "plt.legend()\n",
    "plt.savefig('population_kde.png')\n"
   ]
  },
  {
   "cell_type": "markdown",
   "metadata": {},
   "source": [
    "### Box plot of node-population"
   ]
  },
  {
   "cell_type": "code",
   "execution_count": null,
   "metadata": {},
   "outputs": [],
   "source": [
    "sns.boxplot(y=\"population\", data=node_pop_df)\n",
    "plt.savefig(\"../plots/population/node_pop_box_plt.png\")"
   ]
  },
  {
   "cell_type": "code",
   "execution_count": null,
   "metadata": {},
   "outputs": [],
   "source": [
    "fig, ax1 = plt.subplots()\n",
    "\n",
    "sns.boxplot(x=node_pop_df['population'], orient='h', ax=ax1)\n",
    "\n",
    "ax2 = ax1.twinx()\n",
    "\n",
    "sns.kdeplot(data=node_pop_df['population'], ax=ax2, color='r', bw_adjust=0.2, clip= (0, None))\n",
    "plt.savefig(\"KDE_box_plot_node_pop.png\")"
   ]
  }
 ],
 "metadata": {
  "kernelspec": {
   "display_name": "Python 3 (ipykernel)",
   "language": "python",
   "name": "python3"
  },
  "language_info": {
   "codemirror_mode": {
    "name": "ipython",
    "version": 3
   },
   "file_extension": ".py",
   "mimetype": "text/x-python",
   "name": "python",
   "nbconvert_exporter": "python",
   "pygments_lexer": "ipython3",
   "version": "3.12.3"
  }
 },
 "nbformat": 4,
 "nbformat_minor": 4
}
